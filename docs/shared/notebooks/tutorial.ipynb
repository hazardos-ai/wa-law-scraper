{
 "cells": [
  {
   "cell_type": "markdown",
   "id": "779fda90",
   "metadata": {},
   "source": [
    "# D3 Project Template Tutorial\n",
    "\n",
    "Welcome to the D3 Project Template tutorial! This notebook will walk you through the basic usage of the template and demonstrate its core functionality.\n",
    "\n",
    "## Overview\n",
    "\n",
    "The D3 Project Template provides a modern Python project structure with:\n",
    "- Pixi-based dependency management\n",
    "- Comprehensive testing framework\n",
    "- Documentation support for both MkDocs and JupyterBook\n",
    "- Development best practices"
   ]
  },
  {
   "cell_type": "markdown",
   "id": "265743dc",
   "metadata": {},
   "source": [
    "## Setup and Imports\n",
    "\n",
    "First, let's import the necessary modules and verify our installation:"
   ]
  },
  {
   "cell_type": "code",
   "execution_count": null,
   "id": "b0ac649a",
   "metadata": {},
   "outputs": [],
   "source": [
    "# Import the main module\n",
    "try:\n",
    "    import d3_project_template\n",
    "    print(\"✅ D3 Project Template imported successfully!\")\n",
    "    print(f\"Module location: {d3_project_template.__file__}\")\n",
    "except ImportError as e:\n",
    "    print(f\"❌ Failed to import d3_project_template: {e}\")\n",
    "    print(\"Make sure you've installed the package with: pixi install\")\n",
    "\n",
    "# Import additional useful modules\n",
    "import sys\n",
    "import os\n",
    "from pathlib import Path\n",
    "\n",
    "print(f\"Python version: {sys.version}\")\n",
    "print(f\"Working directory: {os.getcwd()}\")"
   ]
  },
  {
   "cell_type": "markdown",
   "id": "c5bd8e9a",
   "metadata": {},
   "source": [
    "## Basic Usage\n",
    "\n",
    "Let's explore the basic functionality provided by the D3 Project Template."
   ]
  },
  {
   "cell_type": "code",
   "execution_count": null,
   "id": "3e019bcf",
   "metadata": {},
   "outputs": [],
   "source": [
    "# Example: Working with the template structure\n",
    "print(\"🔍 Exploring the project structure...\")\n",
    "\n",
    "# Get the project root\n",
    "project_root = Path.cwd().parent.parent\n",
    "print(f\"Project root: {project_root}\")\n",
    "\n",
    "# List main directories\n",
    "main_dirs = [d for d in project_root.iterdir() if d.is_dir()]\n",
    "print(\"\\n📁 Main directories:\")\n",
    "for dir_path in sorted(main_dirs):\n",
    "    print(f\"  - {dir_path.name}\")\n",
    "\n",
    "# Check if pyproject.toml exists\n",
    "pyproject_path = project_root / \"pyproject.toml\"\n",
    "if pyproject_path.exists():\n",
    "    print(f\"\\n✅ Found pyproject.toml at {pyproject_path}\")\n",
    "else:\n",
    "    print(f\"\\n❌ pyproject.toml not found at {pyproject_path}\")\n",
    "\n",
    "# Example of creating a simple data structure\n",
    "sample_data = {\n",
    "    \"project_name\": \"d3-project-template\",\n",
    "    \"version\": \"0.1.0\",\n",
    "    \"features\": [\"pixi\", \"docs\", \"testing\", \"modern-structure\"]\n",
    "}\n",
    "\n",
    "print(f\"\\n📊 Sample project data:\")\n",
    "for key, value in sample_data.items():\n",
    "    print(f\"  {key}: {value}\")"
   ]
  },
  {
   "cell_type": "markdown",
   "id": "d66dd67c",
   "metadata": {},
   "source": [
    "## Next Steps\n",
    "\n",
    "Now that you've completed the basic tutorial, here are some next steps to explore:\n",
    "\n",
    "1. **Explore the API**: Check out the [API Reference](../api/index.md) for detailed documentation\n",
    "2. **Advanced Examples**: Try the [Advanced Features Notebook](advanced.ipynb)\n",
    "3. **Data Workflow**: Learn about data processing in the [Data Analysis Workflow](workflow.ipynb)\n",
    "4. **Contributing**: Read the [Contributing Guide](../contributing.md) to help improve the project\n",
    "\n",
    "## Summary\n",
    "\n",
    "In this tutorial, you've learned:\n",
    "- ✅ How to verify the D3 Project Template installation\n",
    "- ✅ Basic project structure exploration\n",
    "- ✅ Working with the template in a Jupyter environment\n",
    "- ✅ Understanding the project's core concepts\n",
    "\n",
    "The D3 Project Template provides a solid foundation for your data-driven development projects with modern Python practices and comprehensive documentation support."
   ]
  }
 ],
 "metadata": {
  "language_info": {
   "name": "python"
  }
 },
 "nbformat": 4,
 "nbformat_minor": 5
}
